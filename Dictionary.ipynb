{
 "cells": [
  {
   "cell_type": "code",
   "execution_count": 1,
   "metadata": {},
   "outputs": [
    {
     "name": "stdout",
     "output_type": "stream",
     "text": [
      "{'name': 'Harsh', 'age': 24}\n"
     ]
    }
   ],
   "source": [
    "user={'name': 'Harsh', 'age': 24}\n",
    "print(user)"
   ]
  },
  {
   "cell_type": "code",
   "execution_count": 9,
   "metadata": {},
   "outputs": [
    {
     "name": "stdout",
     "output_type": "stream",
     "text": [
      "Harsh\n",
      "24\n"
     ]
    }
   ],
   "source": [
    "\n",
    "\n",
    "user={'name': 'Harsh', 'age': 24}\n",
    "print(user['name'])\n",
    "print(user['age'])\n",
    "\n"
   ]
  },
  {
   "cell_type": "markdown",
   "metadata": {},
   "source": [
    "# Access Dictionary"
   ]
  },
  {
   "cell_type": "code",
   "execution_count": 10,
   "metadata": {},
   "outputs": [
    {
     "name": "stdout",
     "output_type": "stream",
     "text": [
      "{'name': 'Harsh', 'age': 24, 'fav_movies': ['dhoom', 'kaho na pyar h'], 'fav_tunes': ['ohoooo', 'jannat jaha']}\n",
      "['dhoom', 'kaho na pyar h']\n"
     ]
    }
   ],
   "source": [
    "user_info={\n",
    "    \n",
    "    'name': 'Harsh',\n",
    "    \n",
    "    'age': 24,\n",
    "        \n",
    "    'fav_movies': ['dhoom', 'kaho na pyar h'],\n",
    "    \n",
    "    'fav_tunes' : ['ohoooo', 'jannat jaha'],\n",
    "     \n",
    "    \n",
    "}\n",
    "\n",
    "\n",
    "print(user_info)\n",
    "print(user_info['fav_movies'])"
   ]
  },
  {
   "cell_type": "markdown",
   "metadata": {},
   "source": [
    "# How to add Data into Empty Dictionary"
   ]
  },
  {
   "cell_type": "code",
   "execution_count": 11,
   "metadata": {},
   "outputs": [
    {
     "name": "stdout",
     "output_type": "stream",
     "text": [
      "{'name': 'Harsh'}\n"
     ]
    }
   ],
   "source": [
    "user_info={}\n",
    "\n",
    "user_info['name']= 'Harsh'\n",
    "\n",
    "print(user_info)"
   ]
  },
  {
   "cell_type": "code",
   "execution_count": 16,
   "metadata": {},
   "outputs": [
    {
     "name": "stdout",
     "output_type": "stream",
     "text": [
      "{'name': 'Harsh', 'age': 24, 'fav_movies': ['dhoom', 'kaho na pyar h'], 'fav_tunes': ['ohoooo', 'jannat jaha']}\n"
     ]
    }
   ],
   "source": [
    "ji_ya={}\n",
    "     \n",
    "\n",
    "\n",
    "\n",
    "ji_ya['name']= 'Harsh'\n",
    "ji_ya['age']= 24 \n",
    "ji_ya['fav_movies']= ['dhoom', 'kaho na pyar h']\n",
    "ji_ya['fav_tunes'] = ['ohoooo', 'jannat jaha'] \n",
    "\n",
    "print(ji_ya)"
   ]
  },
  {
   "cell_type": "markdown",
   "metadata": {},
   "source": [
    "# Looping and In keyword in dictionary"
   ]
  },
  {
   "cell_type": "markdown",
   "metadata": {},
   "source": [
    "# To check if key exist in dictionary"
   ]
  },
  {
   "cell_type": "markdown",
   "metadata": {},
   "source": [
    "M.I.M.P IN keyword"
   ]
  },
  {
   "cell_type": "code",
   "execution_count": 19,
   "metadata": {},
   "outputs": [
    {
     "name": "stdout",
     "output_type": "stream",
     "text": [
      "Present\n"
     ]
    }
   ],
   "source": [
    "user_info={\n",
    "    \n",
    "    'name': 'Harsh',\n",
    "    \n",
    "    'age': 24,\n",
    "        \n",
    "    'fav_movies': ['dhoom', 'kaho na pyar h'],\n",
    "    \n",
    "    'fav_tunes' : ['ohoooo', 'jannat jaha'],\n",
    "     \n",
    "    \n",
    "}\n",
    "\n",
    "\n",
    "if 'name' in user_info:\n",
    "    print('Present')\n",
    "    \n",
    "else:\n",
    "    print('not Present')"
   ]
  },
  {
   "cell_type": "markdown",
   "metadata": {},
   "source": [
    "# To check if value exist in dictinoary"
   ]
  },
  {
   "cell_type": "markdown",
   "metadata": {},
   "source": [
    "value exist in dict------------------> . values()"
   ]
  },
  {
   "cell_type": "code",
   "execution_count": 20,
   "metadata": {},
   "outputs": [
    {
     "name": "stdout",
     "output_type": "stream",
     "text": [
      "Present\n"
     ]
    }
   ],
   "source": [
    "user_info={\n",
    "    \n",
    "    'name': 'Harsh',\n",
    "    \n",
    "    'age': 24,\n",
    "        \n",
    "    'fav_movies': ['dhoom', 'kaho na pyar h'],\n",
    "    \n",
    "    'fav_tunes' : ['ohoooo', 'jannat jaha'],\n",
    "     \n",
    "    \n",
    "}\n",
    "\n",
    "\n",
    "if 24 in user_info.values():\n",
    "    print('Present')\n",
    "    \n",
    "else:\n",
    "    print('not Present')"
   ]
  },
  {
   "cell_type": "code",
   "execution_count": 21,
   "metadata": {},
   "outputs": [
    {
     "name": "stdout",
     "output_type": "stream",
     "text": [
      "Present\n"
     ]
    }
   ],
   "source": [
    "user_info={\n",
    "    \n",
    "    'name': 'Harsh',\n",
    "    \n",
    "    'age': 24,\n",
    "        \n",
    "    'fav_movies': ['dhoom', 'kaho na pyar h'],\n",
    "    \n",
    "    'fav_tunes' : ['ohoooo', 'jannat jaha'],\n",
    "     \n",
    "    \n",
    "}\n",
    "\n",
    "\n",
    "if ['dhoom', 'kaho na pyar h'] in user_info.values():\n",
    "    print('Present')\n",
    "    \n",
    "else:\n",
    "    print('not Present')"
   ]
  },
  {
   "cell_type": "code",
   "execution_count": 22,
   "metadata": {},
   "outputs": [
    {
     "name": "stdout",
     "output_type": "stream",
     "text": [
      "not Present\n"
     ]
    }
   ],
   "source": [
    "user_info={\n",
    "    \n",
    "    'name': 'Harsh',\n",
    "    \n",
    "    'age': 24,\n",
    "        \n",
    "    'fav_movies': ['dhoom', 'kaho na pyar h'],\n",
    "    \n",
    "    'fav_tunes' : ['ohoooo', 'jannat jaha'],\n",
    "     \n",
    "    \n",
    "}\n",
    "\n",
    "\n",
    "if ['dhoom', 'kaho na pyar h','BigBoss'] in user_info.values():\n",
    "    print('Present')\n",
    "    \n",
    "else:\n",
    "    print('not Present')"
   ]
  },
  {
   "cell_type": "markdown",
   "metadata": {},
   "source": [
    "# Looping"
   ]
  },
  {
   "cell_type": "code",
   "execution_count": 24,
   "metadata": {},
   "outputs": [
    {
     "name": "stdout",
     "output_type": "stream",
     "text": [
      "name\n",
      "age\n",
      "fav_movies\n",
      "fav_tunes\n"
     ]
    }
   ],
   "source": [
    "user_info={\n",
    "    \n",
    "    'name': 'Harsh',\n",
    "    \n",
    "    'age': 24,\n",
    "        \n",
    "    'fav_movies': ['dhoom', 'kaho na pyar h'],\n",
    "    \n",
    "    'fav_tunes' : ['ohoooo', 'jannat jaha'],\n",
    "     \n",
    "    \n",
    "}\n",
    "\n",
    "\n",
    "for i in user_info:\n",
    "    print(i)"
   ]
  },
  {
   "cell_type": "markdown",
   "metadata": {},
   "source": [
    "# keys access"
   ]
  },
  {
   "cell_type": "code",
   "execution_count": 26,
   "metadata": {},
   "outputs": [
    {
     "name": "stdout",
     "output_type": "stream",
     "text": [
      "Harsh\n",
      "24\n",
      "['dhoom', 'kaho na pyar h']\n",
      "['ohoooo', 'jannat jaha']\n"
     ]
    }
   ],
   "source": [
    "user_info={\n",
    "    \n",
    "    'name': 'Harsh',\n",
    "    \n",
    "    'age': 24,\n",
    "        \n",
    "    'fav_movies': ['dhoom', 'kaho na pyar h'],\n",
    "    \n",
    "    'fav_tunes' : ['ohoooo', 'jannat jaha'],\n",
    "     \n",
    "    \n",
    "}\n",
    "\n",
    "for i in user_info.values():\n",
    "    print(i)\n"
   ]
  },
  {
   "cell_type": "markdown",
   "metadata": {},
   "source": [
    "# M.I.M.P items method()"
   ]
  },
  {
   "cell_type": "markdown",
   "metadata": {},
   "source": [
    ".items()"
   ]
  },
  {
   "cell_type": "code",
   "execution_count": 30,
   "metadata": {},
   "outputs": [
    {
     "name": "stdout",
     "output_type": "stream",
     "text": [
      " key is name and value is Harsh\n",
      " key is age and value is 24\n",
      " key is fav_movies and value is ['dhoom', 'kaho na pyar h']\n",
      " key is fav_tunes and value is ['ohoooo', 'jannat jaha']\n"
     ]
    }
   ],
   "source": [
    "user_info={\n",
    "    \n",
    "    'name': 'Harsh',\n",
    "    \n",
    "    'age': 24,\n",
    "        \n",
    "    'fav_movies': ['dhoom', 'kaho na pyar h'],\n",
    "    \n",
    "    'fav_tunes' : ['ohoooo', 'jannat jaha'],\n",
    "     \n",
    "    \n",
    "}\n",
    "\n",
    "for key,value in user_info.items():\n",
    "    print(f\" key is {key} and value is {value}\")\n"
   ]
  },
  {
   "cell_type": "code",
   "execution_count": 31,
   "metadata": {},
   "outputs": [
    {
     "name": "stdout",
     "output_type": "stream",
     "text": [
      " key is name and value is Harsh\n",
      " key is age and value is 24\n",
      " key is fav_movies and value is ['dhoom', 'kaho na pyar h']\n",
      " key is fav_tunes and value is ['ohoooo', 'jannat jaha']\n"
     ]
    }
   ],
   "source": [
    "user_info={\n",
    "    \n",
    "    'name': 'Harsh',\n",
    "    \n",
    "    'age': 24,\n",
    "        \n",
    "    'fav_movies': ['dhoom', 'kaho na pyar h'],\n",
    "    \n",
    "    'fav_tunes' : ['ohoooo', 'jannat jaha'],\n",
    "     \n",
    "    \n",
    "}\n",
    "\n",
    "for i,j in user_info.items():\n",
    "    print(f\" key is {i} and value is {j}\")"
   ]
  },
  {
   "cell_type": "markdown",
   "metadata": {},
   "source": [
    "# how to add element in dic"
   ]
  },
  {
   "cell_type": "code",
   "execution_count": 1,
   "metadata": {},
   "outputs": [
    {
     "name": "stdout",
     "output_type": "stream",
     "text": [
      "{'name': 'Harsh', 'age': 24, 'fav_movies': ['dhoom', 'kaho na pyar h'], 'fav_tunes': ['ohoooo', 'jannat jaha'], 'fav_crickter': ['Virat Kohli', 'MS DHONI', 'Ro-hit sharma']}\n"
     ]
    }
   ],
   "source": [
    "user_info={\n",
    "    \n",
    "    'name': 'Harsh',\n",
    "    \n",
    "    'age': 24,\n",
    "        \n",
    "    'fav_movies': ['dhoom', 'kaho na pyar h'],\n",
    "    \n",
    "    'fav_tunes' : ['ohoooo', 'jannat jaha'],\n",
    "     \n",
    "    \n",
    "}\n",
    "\n",
    "\n",
    "user_info['fav_crickter'] = ['Virat Kohli', 'MS DHONI',  'Ro-hit sharma']\n",
    "\n",
    "print(user_info)\n",
    "\n",
    "\n",
    "\n"
   ]
  },
  {
   "cell_type": "markdown",
   "metadata": {},
   "source": [
    "#    # Remove Dic using---------> pop method"
   ]
  },
  {
   "cell_type": "code",
   "execution_count": 4,
   "metadata": {},
   "outputs": [
    {
     "name": "stdout",
     "output_type": "stream",
     "text": [
      "remove is ['ohoooo', 'jannat jaha']\n",
      "{'name': 'Harsh', 'age': 24, 'fav_movies': ['dhoom', 'kaho na pyar h'], 'fav_crickter': ['Virat Kohli', 'MS DHONI', 'Ro-hit sharma']}\n"
     ]
    }
   ],
   "source": [
    "user_info={\n",
    "    \n",
    "    'name': 'Harsh',\n",
    "    \n",
    "    'age': 24,\n",
    "        \n",
    "    'fav_movies': ['dhoom', 'kaho na pyar h'],\n",
    "    \n",
    "    'fav_tunes' : ['ohoooo', 'jannat jaha'],\n",
    "    \n",
    "    'fav_crickter' : ['Virat Kohli', 'MS DHONI',  'Ro-hit sharma']\n",
    "     \n",
    "    \n",
    "}\n",
    "\n",
    "ha_ji=user_info.pop('fav_tunes')\n",
    "print(f'remove is {ha_ji}')\n",
    "print(user_info)\n"
   ]
  },
  {
   "cell_type": "markdown",
   "metadata": {},
   "source": [
    "# UPDATE"
   ]
  },
  {
   "cell_type": "code",
   "execution_count": 7,
   "metadata": {},
   "outputs": [
    {
     "name": "stdout",
     "output_type": "stream",
     "text": [
      "{'name': 'Harsh', 'age': 24, 'fav_movies': ['dhoom', 'kaho na pyar h'], 'fav_tunes': ['ohoooo', 'jannat jaha'], 'fav_crickter': ['Virat Kohli', 'MS DHONI', 'Ro-hit sharma'], 'state': 'haryana', 'hobbies': ['coding', 'reading', 'guiter']}\n"
     ]
    }
   ],
   "source": [
    "user_info={\n",
    "    \n",
    "    'name': 'Harsh',\n",
    "    \n",
    "    'age': 24,\n",
    "        \n",
    "    'fav_movies': ['dhoom', 'kaho na pyar h'],\n",
    "    \n",
    "    'fav_tunes' : ['ohoooo', 'jannat jaha'],\n",
    "    \n",
    "    'fav_crickter' : ['Virat Kohli', 'MS DHONI',  'Ro-hit sharma']\n",
    "     \n",
    "    \n",
    "}\n",
    "\n",
    "\n",
    "more_info={'state':'haryana', 'hobbies':['coding','reading','guiter']}\n",
    "\n",
    "\n",
    "user_info.update(more_info) <-------------------------------------\n",
    "\n",
    "print(user_info)\n",
    "           \n",
    "           \n",
    "\n",
    "    \n",
    "    \n",
    "    \n",
    "    \n",
    "    \n",
    "    \n",
    "    \n"
   ]
  },
  {
   "cell_type": "code",
   "execution_count": 9,
   "metadata": {},
   "outputs": [
    {
     "name": "stdout",
     "output_type": "stream",
     "text": [
      "{'name': 'Harsh', 'age': 27, 'fav_movies': ['dhoom', 'kaho na pyar h'], 'fav_tunes': ['ohoooo', 'jannat jaha'], 'fav_crickter': ['Virat Kohli', 'MS DHONI', 'Ro-hit sharma'], 'state': 'haryana', 'hobbies': ['coding', 'reading', 'guiter']}\n"
     ]
    }
   ],
   "source": [
    "user_info={\n",
    "    \n",
    "    'name': 'Harsh',\n",
    "    \n",
    "    'age': 24,\n",
    "        \n",
    "    'fav_movies': ['dhoom', 'kaho na pyar h'],\n",
    "    \n",
    "    'fav_tunes' : ['ohoooo', 'jannat jaha'],\n",
    "    \n",
    "    'fav_crickter' : ['Virat Kohli', 'MS DHONI',  'Ro-hit sharma']\n",
    "     \n",
    "    \n",
    "}\n",
    "\n",
    "\n",
    "more_info={'age': 27,'state':'haryana', 'hobbies':['coding','reading','guiter']}\n",
    "\n",
    "\n",
    "user_info.update(more_info) ---------------------------># 24 replace by 27 in final answer\n",
    "\n",
    "print(user_info)"
   ]
  },
  {
   "cell_type": "code",
   "execution_count": 10,
   "metadata": {},
   "outputs": [
    {
     "name": "stdout",
     "output_type": "stream",
     "text": [
      "{'name': 'Harsh', 'age': 24, 'fav_movies': ['dhoom', 'kaho na pyar h'], 'fav_tunes': ['ohoooo', 'jannat jaha'], 'fav_crickter': ['Virat Kohli', 'MS DHONI', 'Ro-hit sharma']}\n"
     ]
    }
   ],
   "source": [
    "user_info={\n",
    "    \n",
    "    'name': 'Harsh',\n",
    "    \n",
    "    'age': 24,\n",
    "        \n",
    "    'fav_movies': ['dhoom', 'kaho na pyar h'],\n",
    "    \n",
    "    'fav_tunes' : ['ohoooo', 'jannat jaha'],\n",
    "    \n",
    "    'fav_crickter' : ['Virat Kohli', 'MS DHONI',  'Ro-hit sharma']\n",
    "     \n",
    "    \n",
    "}\n",
    "\n",
    "\n",
    "more_info={'state':'haryana', 'hobbies':['coding','reading','guiter']}\n",
    "\n",
    "\n",
    "user_info.update({})\n",
    "\n",
    "print(user_info)\n",
    "           "
   ]
  },
  {
   "cell_type": "markdown",
   "metadata": {},
   "source": [
    "# GET method"
   ]
  },
  {
   "cell_type": "code",
   "execution_count": 11,
   "metadata": {},
   "outputs": [
    {
     "name": "stdout",
     "output_type": "stream",
     "text": [
      "harsh\n"
     ]
    }
   ],
   "source": [
    "d={'name': 'harsh', 'age': 26}\n",
    "print(d.get('name'))"
   ]
  },
  {
   "cell_type": "code",
   "execution_count": 17,
   "metadata": {},
   "outputs": [
    {
     "name": "stdout",
     "output_type": "stream",
     "text": [
      "present\n"
     ]
    }
   ],
   "source": [
    "d={'name': 'harsh', 'age': 26}\n",
    "\n",
    "if 'name' in d:\n",
    "    print('present')\n",
    "else:\n",
    "    print('not present')"
   ]
  },
  {
   "cell_type": "code",
   "execution_count": 14,
   "metadata": {},
   "outputs": [
    {
     "name": "stdout",
     "output_type": "stream",
     "text": [
      "present\n"
     ]
    }
   ],
   "source": [
    "d={'name': 'harsh', 'age': 26}\n",
    "\n",
    "if d.get('name'):\n",
    "    print('present')\n",
    "else:\n",
    "    print('not present')"
   ]
  },
  {
   "cell_type": "markdown",
   "metadata": {},
   "source": [
    "# FIND CUBE using Dict"
   ]
  },
  {
   "cell_type": "code",
   "execution_count": 18,
   "metadata": {},
   "outputs": [
    {
     "name": "stdout",
     "output_type": "stream",
     "text": [
      "{1: 1, 2: 8, 3: 27, 4: 64, 5: 125}\n"
     ]
    }
   ],
   "source": [
    "def cube_finder(n):\n",
    "    cubes={}\n",
    "    for i in range(1,n+1):\n",
    "        cubes[i]=i**3\n",
    "    return cubes\n",
    "\n",
    "print(cube_finder(5))\n",
    "        "
   ]
  },
  {
   "cell_type": "markdown",
   "metadata": {},
   "source": [
    "# Word Counter"
   ]
  },
  {
   "cell_type": "code",
   "execution_count": 22,
   "metadata": {},
   "outputs": [
    {
     "name": "stdout",
     "output_type": "stream",
     "text": [
      "{'h': 2, 'a': 1, 'r': 1, 's': 1, 'i': 1, 't': 1}\n"
     ]
    }
   ],
   "source": [
    "def word_counter(s):\n",
    "    \n",
    "    count={}\n",
    "    \n",
    "    for char in s:\n",
    "        count[char]=s.count(char)\n",
    "        \n",
    "    return count\n",
    "\n",
    "print(word_counter('harshit'))    \n"
   ]
  },
  {
   "cell_type": "code",
   "execution_count": 24,
   "metadata": {},
   "outputs": [
    {
     "name": "stdout",
     "output_type": "stream",
     "text": [
      "{'h': 2, 'a': 1, 'r': 1, 's': 1, 'i': 1, 't': 1}\n"
     ]
    }
   ],
   "source": [
    "def word_counter(s):\n",
    "    \n",
    "    count={}\n",
    "    \n",
    "    for char in s:\n",
    "        count[char]=s.count(char)\n",
    "        \n",
    "    return count\n",
    "\n",
    "print(word_counter('harshit'))    "
   ]
  },
  {
   "cell_type": "markdown",
   "metadata": {},
   "source": [
    "QUE:-------------->  O/P Avu print thau joe with user input means dyanmic program    \n",
    "    \n",
    "    users={\n",
    "        'name': 'Harsh'\n",
    "    \n",
    "         'age': 24\n",
    "    \n",
    "        'fav_movies' : ['coco','avangers']\n",
    "    \n",
    "        'fav_songs'  : ['song1', 'song2']\n",
    "    \n",
    "        }"
   ]
  },
  {
   "cell_type": "code",
   "execution_count": 26,
   "metadata": {},
   "outputs": [
    {
     "name": "stdout",
     "output_type": "stream",
     "text": [
      "\n",
      "Enter your name:harsh\n",
      "Enter your age:24\n",
      "Enter your fav movie comma seperarted:saho,dhoom\n",
      "Enter your fav songs comma seperated:ohooo,je ne mera dil loot liya\n",
      "{'name': 'harsh', 'age': 24, 'fav_movies': ['saho', 'dhoom'], 'fav_songs': ['ohooo', 'je ne mera dil loot liya']}\n"
     ]
    }
   ],
   "source": [
    "users={}\n",
    "\n",
    "name=input('\\nEnter your name:')\n",
    "age=int(input(\"Enter your age:\"))\n",
    "fav_movies=input('Enter your fav movie comma seperarted:').split(',')\n",
    "fav_songs=input('Enter your fav songs comma seperated:').split(',')\n",
    "\n",
    "\n",
    "\n",
    "users['name']=name\n",
    "users['age']=age\n",
    "users['fav_movies']=fav_movies\n",
    "users['fav_songs']=fav_songs\n",
    "\n",
    "print(users)"
   ]
  },
  {
   "cell_type": "code",
   "execution_count": 28,
   "metadata": {},
   "outputs": [
    {
     "name": "stdout",
     "output_type": "stream",
     "text": [
      "\n",
      "Enter your name:harsh\n",
      "Enter your age:27\n",
      "Enter your fav movie comma seperarted:dhoom,dhoommachale\n",
      "Enter your fav songs comma seperated:ohohooo, je ne mera dil loot diliya\n",
      "name : harsh\n",
      "age : 27\n",
      "fav_movies : ['dhoom', 'dhoommachale']\n",
      "fav_songs : ['ohohooo', ' je ne mera dil loot diliya']\n"
     ]
    }
   ],
   "source": [
    "users={}\n",
    "\n",
    "name=input('\\nEnter your name:')\n",
    "age=int(input(\"Enter your age:\"))\n",
    "fav_movies=input('Enter your fav movie comma seperarted:').split(',')\n",
    "fav_songs=input('Enter your fav songs comma seperated:').split(',')\n",
    "\n",
    "\n",
    "\n",
    "users['name']=name\n",
    "users['age']=age\n",
    "users['fav_movies']=fav_movies\n",
    "users['fav_songs']=fav_songs\n",
    "\n",
    "for key,value in users.items():\n",
    "    print(f'{key} : {value}')\n"
   ]
  },
  {
   "cell_type": "markdown",
   "metadata": {},
   "source": [
    "# Remeber in  Dict----------------> .values(), .items(), .get()"
   ]
  }
 ],
 "metadata": {
  "kernelspec": {
   "display_name": "Python 3",
   "language": "python",
   "name": "python3"
  },
  "language_info": {
   "codemirror_mode": {
    "name": "ipython",
    "version": 3
   },
   "file_extension": ".py",
   "mimetype": "text/x-python",
   "name": "python",
   "nbconvert_exporter": "python",
   "pygments_lexer": "ipython3",
   "version": "3.7.7"
  }
 },
 "nbformat": 4,
 "nbformat_minor": 4
}
